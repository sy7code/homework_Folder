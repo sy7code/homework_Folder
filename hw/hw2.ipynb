{
 "cells": [
  {
   "cell_type": "code",
   "execution_count": 1,
   "id": "d0485bdd-29d4-45ef-9ea0-89207426c744",
   "metadata": {
    "tags": []
   },
   "outputs": [
    {
     "name": "stdout",
     "output_type": "stream",
     "text": [
      "[['physics', 98], ['calculus', 97], ['poetry', 85], ['history', 88]]\n"
     ]
    }
   ],
   "source": [
    "#코드2 - Gradebook\n",
    "#일부 목록 만들기\n",
    "subjects = [\"physics\", \"calculus\", \"poetry\", \"history\"]\n",
    "grades = [98, 97, 85, 88]\n",
    "gradebook = [[subjects[i], grades[i]] for i in range(4)]\n",
    "\n",
    "print(gradebook)"
   ]
  },
  {
   "cell_type": "code",
   "execution_count": 2,
   "id": "b62d50c0-c4d5-4297-8242-51288041a2fc",
   "metadata": {
    "tags": []
   },
   "outputs": [
    {
     "name": "stdout",
     "output_type": "stream",
     "text": [
      "[['physics', 98], ['calculus', 97], ['poetry', 85], ['history', 88], ['computer science', 100], ['visual arts', 93]]\n"
     ]
    }
   ],
   "source": [
    "gradebook.append([\"computer science\", 100])\n",
    "gradebook.append([\"visual arts\", 93])\n",
    "\n",
    "print(gradebook)"
   ]
  },
  {
   "cell_type": "code",
   "execution_count": 3,
   "id": "706dafa7-1229-4303-95fd-6b2315102a9c",
   "metadata": {
    "tags": []
   },
   "outputs": [
    {
     "name": "stdout",
     "output_type": "stream",
     "text": [
      "[['physics', 98], ['calculus', 97], ['poetry', 'Pass'], ['history', 88], ['computer science', 100], ['visual arts', 98]]\n"
     ]
    }
   ],
   "source": [
    "#성적부 수정\n",
    "gradebook[-1][1] += 5\n",
    "gradebook[2].remove(85)\n",
    "gradebook[2].append(\"Pass\")\n",
    "\n",
    "print(gradebook)"
   ]
  },
  {
   "cell_type": "code",
   "execution_count": 4,
   "id": "1bf7fbc0-0798-4e9f-8a8d-10db34fcc406",
   "metadata": {
    "tags": []
   },
   "outputs": [
    {
     "name": "stdout",
     "output_type": "stream",
     "text": [
      "[['politics', 80], ['latin', 96], ['dance', 97], ['architecture', 65], ['physics', 98], ['calculus', 97], ['poetry', 'Pass'], ['history', 88], ['computer science', 100], ['visual arts', 98]]\n"
     ]
    }
   ],
   "source": [
    "#하나의 성적표\n",
    "last_semester_gradebook = [\n",
    "    [\"politics\", 80],\n",
    "    [\"latin\", 96],\n",
    "    [\"dance\", 97],\n",
    "    [\"architecture\", 65]\n",
    "]\n",
    "\n",
    "full_gradebook = last_semester_gradebook + gradebook\n",
    "\n",
    "print(full_gradebook)"
   ]
  },
  {
   "cell_type": "code",
   "execution_count": null,
   "id": "d308d415-7482-46d5-9d15-b40d65e0ca92",
   "metadata": {},
   "outputs": [],
   "source": []
  },
  {
   "cell_type": "code",
   "execution_count": 5,
   "id": "0b978e59-3439-40be-abee-69055618a8bb",
   "metadata": {
    "tags": []
   },
   "outputs": [
    {
     "name": "stdout",
     "output_type": "stream",
     "text": [
      "Average price is 31.875\n"
     ]
    }
   ],
   "source": [
    "#코드3 - Carly's Clippers\n",
    "hairstyles = [\"bouffant\", \"pixie\", \"dreadlocks\", \"crew\", \"bowl\", \"bob\", \"mohawk\", \"flattop\"]\n",
    "prices = [30, 25, 40, 20, 20, 35, 50, 35]\n",
    "last_week = [2, 3, 5, 8, 4, 4, 6, 2] #지난주 헤어스타일별 구매횟수\n",
    "\n",
    "total_price = 0\n",
    "for i in prices:\n",
    "    total_price += i\n",
    "average_price = total_price / len(prices)\n",
    "\n",
    "print(\"Average price is\",average_price)"
   ]
  },
  {
   "cell_type": "code",
   "execution_count": 6,
   "id": "b448dac2-fb7c-4967-9e5a-bf0e6c69a1a3",
   "metadata": {
    "tags": []
   },
   "outputs": [
    {
     "name": "stdout",
     "output_type": "stream",
     "text": [
      "[25, 20, 35, 15, 15, 30, 45, 30]\n"
     ]
    }
   ],
   "source": [
    "new_prices = [i - 5 for i in prices]\n",
    "\n",
    "print(new_prices)"
   ]
  },
  {
   "cell_type": "code",
   "execution_count": 7,
   "id": "74d3fcda-5185-4cd2-8c20-d010a1e4d339",
   "metadata": {
    "tags": []
   },
   "outputs": [
    {
     "name": "stdout",
     "output_type": "stream",
     "text": [
      "1085\n"
     ]
    }
   ],
   "source": [
    "#수익\n",
    "total_revenue = 0\n",
    "for i in range(len(hairstyles)):\n",
    "    total_revenue += prices[i] * last_week[i]\n",
    "\n",
    "print(total_revenue) #print the value of total_revenue?"
   ]
  },
  {
   "cell_type": "code",
   "execution_count": 8,
   "id": "2803d911-356a-4541-94be-8ae4168d40a7",
   "metadata": {
    "tags": []
   },
   "outputs": [
    {
     "name": "stdout",
     "output_type": "stream",
     "text": [
      "Average daily revenue is 155.0\n"
     ]
    }
   ],
   "source": [
    "average_daily_revenue = total_revenue / 7\n",
    "\n",
    "print(\"Average daily revenue is\", average_daily_revenue)"
   ]
  },
  {
   "cell_type": "code",
   "execution_count": 9,
   "id": "5ed11ac9-f2f3-4bb1-9140-081cce4ded47",
   "metadata": {
    "tags": []
   },
   "outputs": [
    {
     "name": "stdout",
     "output_type": "stream",
     "text": [
      "['bouffant', 'pixie', 'crew', 'bowl']\n"
     ]
    }
   ],
   "source": [
    "cuts_under_30 = [hairstyles[i] for i in range(len(new_prices) - 1) if new_prices[i] < 30]\n",
    "\n",
    "print(cuts_under_30)"
   ]
  }
 ],
 "metadata": {
  "kernelspec": {
   "display_name": "Python 3 (ipykernel)",
   "language": "python",
   "name": "python3"
  },
  "language_info": {
   "codemirror_mode": {
    "name": "ipython",
    "version": 3
   },
   "file_extension": ".py",
   "mimetype": "text/x-python",
   "name": "python",
   "nbconvert_exporter": "python",
   "pygments_lexer": "ipython3",
   "version": "3.11.4"
  }
 },
 "nbformat": 4,
 "nbformat_minor": 5
}
